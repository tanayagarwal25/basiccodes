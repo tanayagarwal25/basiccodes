{
 "metadata": {
  "language_info": {
   "codemirror_mode": {
    "name": "ipython",
    "version": 3
   },
   "file_extension": ".py",
   "mimetype": "text/x-python",
   "name": "python",
   "nbconvert_exporter": "python",
   "pygments_lexer": "ipython3",
   "version": "3.7.9-final"
  },
  "orig_nbformat": 2,
  "kernelspec": {
   "name": "python37964bita33ad6567b6941a5a7ad21d6149d4714",
   "display_name": "Python 3.7.9 64-bit"
  }
 },
 "nbformat": 4,
 "nbformat_minor": 2,
 "cells": [
  {
   "cell_type": "code",
   "execution_count": null,
   "metadata": {
    "tags": []
   },
   "outputs": [],
   "source": [
    "import array as arr\n",
    "a=arr.array('i',[1,2,3])\n",
    "print(\"The new created array is:\",end=\" \")\n",
    "for i in range (0,3):\n",
    "    print(a[i],end=\" \")\n",
    "print()    "
   ]
  },
  {
   "cell_type": "code",
   "execution_count": null,
   "metadata": {
    "tags": []
   },
   "outputs": [],
   "source": [
    "i=10\n",
    "if i==10:\n",
    "    if i<15:\n",
    "        print(\"less than 15\",i)\n",
    "if i<12:\n",
    "    print(\"also less than 12\",i)  \n",
    "          \n"
   ]
  },
  {
   "cell_type": "code",
   "execution_count": null,
   "metadata": {
    "tags": []
   },
   "outputs": [],
   "source": [
    "x=2\n",
    "print(1<x<2.5)"
   ]
  },
  {
   "cell_type": "code",
   "execution_count": null,
   "metadata": {
    "tags": []
   },
   "outputs": [],
   "source": [
    "for letter in 'geeksforgeeks':\n",
    "    if letter =='e' or letter =='s':\n",
    "        continue\n",
    "    print('CUrrent Letter:',letter)"
   ]
  },
  {
   "cell_type": "code",
   "execution_count": null,
   "metadata": {
    "tags": []
   },
   "outputs": [],
   "source": [
    "for i in range(0,6):\n",
    "    print((6-i)*' '+i * '*')"
   ]
  },
  {
   "cell_type": "code",
   "execution_count": null,
   "metadata": {
    "tags": []
   },
   "outputs": [],
   "source": [
    "file=open('ex.txt','w')\n",
    "file.writelines(\"This will enhace our programming skills\")\n",
    "file.writelines(\"This will be benificial for revision purpose.\")\n",
    "file.close()"
   ]
  },
  {
   "cell_type": "code",
   "execution_count": null,
   "metadata": {
    "tags": []
   },
   "outputs": [],
   "source": [
    "file=open(\"ex.txt\",\"r\")\n",
    "print(file.read())"
   ]
  },
  {
   "cell_type": "code",
   "execution_count": null,
   "metadata": {
    "tags": []
   },
   "outputs": [],
   "source": [
    "lis=[1,4,3,4,5,6,12,4,1,2]\n",
    "for i in reversed(sorted(lis)):\n",
    "    print(i,end=\" \")"
   ]
  },
  {
   "cell_type": "code",
   "execution_count": null,
   "metadata": {
    "tags": []
   },
   "outputs": [],
   "source": [
    "with open(\"ex.txt\") as f:\n",
    "    data=f.readlines()\n",
    "    for line in data:\n",
    "        word=line.split()\n",
    "        print (word)\n"
   ]
  },
  {
   "cell_type": "code",
   "execution_count": null,
   "metadata": {
    "tags": []
   },
   "outputs": [],
   "source": [
    "def func(x):\n",
    "    print(x)\n",
    "func(15)\n",
    "func(25)    "
   ]
  },
  {
   "cell_type": "code",
   "execution_count": null,
   "metadata": {
    "tags": []
   },
   "outputs": [],
   "source": [
    "def sum(a,b):\n",
    "    added=a+b\n",
    "    return a\n",
    "x=sum(2,7)\n",
    "print(x)    "
   ]
  },
  {
   "cell_type": "code",
   "execution_count": null,
   "metadata": {
    "tags": []
   },
   "outputs": [],
   "source": [
    "def say(message,time = 1):\n",
    "    print(message * time)\n",
    "say('Perfect')\n",
    "say('Plan B',5)   "
   ]
  },
  {
   "cell_type": "code",
   "execution_count": null,
   "metadata": {
    "tags": []
   },
   "outputs": [],
   "source": [
    "def func():\n",
    "    print('Perfect')\n",
    "    return\n",
    "    print('PlanB')\n",
    "func()    "
   ]
  },
  {
   "cell_type": "code",
   "execution_count": null,
   "metadata": {
    "tags": []
   },
   "outputs": [],
   "source": [
    "smallest_so_far=-1\n",
    "for the_num in [9,42,12,3,74,15]:\n",
    "    if the_num< smallest_so_far:\n",
    "        smallest_so_far=the_num\n",
    "print(smallest_so_far)        "
   ]
  },
  {
   "cell_type": "code",
   "execution_count": null,
   "metadata": {
    "tags": []
   },
   "outputs": [],
   "source": [
    "n=0\n",
    "while n>0:\n",
    "    print('Perfect')\n",
    "    print('Plan')\n",
    "print('B!')    "
   ]
  },
  {
   "cell_type": "code",
   "execution_count": null,
   "metadata": {
    "tags": []
   },
   "outputs": [],
   "source": [
    "count=0\n",
    "sum=0.0\n",
    "while True:\n",
    "    val=input(\"Enter a number:\")\n",
    "    if val=='exit':\n",
    "        break\n",
    "try:\n",
    "    s = float(val)\n",
    "except:\n",
    "    print('Invalid')\n",
    "count=count+1\n",
    "sum=sum+s\n",
    "print(sum,count,sum/count)    "
   ]
  },
  {
   "cell_type": "code",
   "execution_count": null,
   "metadata": {
    "tags": []
   },
   "outputs": [],
   "source": [
    "n=50\n",
    "while n<60:\n",
    "    n=n+1\n",
    "    print(n)"
   ]
  },
  {
   "cell_type": "code",
   "execution_count": null,
   "metadata": {},
   "outputs": [],
   "source": [
    "\n"
   ]
  }
 ]
}