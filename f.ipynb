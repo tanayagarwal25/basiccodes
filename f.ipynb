{
 "metadata": {
  "language_info": {
   "codemirror_mode": {
    "name": "ipython",
    "version": 3
   },
   "file_extension": ".py",
   "mimetype": "text/x-python",
   "name": "python",
   "nbconvert_exporter": "python",
   "pygments_lexer": "ipython3",
   "version": "3.7.9-final"
  },
  "orig_nbformat": 2,
  "kernelspec": {
   "name": "python37964bita33ad6567b6941a5a7ad21d6149d4714",
   "display_name": "Python 3.7.9 64-bit"
  }
 },
 "nbformat": 4,
 "nbformat_minor": 2,
 "cells": [
  {
   "cell_type": "code",
   "execution_count": null,
   "metadata": {},
   "outputs": [],
   "source": [
    "a=input(\"Enter a number\")"
   ]
  },
  {
   "cell_type": "code",
   "execution_count": null,
   "metadata": {
    "tags": []
   },
   "outputs": [],
   "source": [
    "a=12\n",
    "print(a)"
   ]
  },
  {
   "cell_type": "code",
   "execution_count": 2,
   "metadata": {
    "tags": []
   },
   "outputs": [
    {
     "output_type": "stream",
     "name": "stdout",
     "text": "('ai',)\n('information_schema',)\n('ml',)\n('mysql',)\n('performance_schema',)\n('sys',)\n"
    }
   ],
   "source": [
    "import mysql.connector\n",
    "mydb=mysql.connector.connect(username='root',password='tanay123',host='127.0.0.1',database='AI')\n",
    "mycursor=mydb.cursor()\n",
    "mycursor.execute(\"show databases\")\n",
    "result= mycursor.fetchall()\n",
    "for i in result:\n",
    "    print(i)\n"
   ]
  },
  {
   "cell_type": "code",
   "execution_count": 3,
   "metadata": {
    "tags": []
   },
   "outputs": [
    {
     "output_type": "stream",
     "name": "stdout",
     "text": "set()\n"
    }
   ],
   "source": [
    "set1=set()\n",
    "set(\"GeeksforGeeks\")\n",
    "print(set1)"
   ]
  }
 ]
}